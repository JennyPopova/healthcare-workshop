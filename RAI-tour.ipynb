{
  "cells": [
    {
      "cell_type": "markdown",
      "source": [
        "# Take a Tour: Responsible AI Toolbox"
      ],
      "metadata": {},
      "id": "a43a8d5a"
    },
    {
      "attachments": {},
      "cell_type": "markdown",
      "source": [
        "The Responsible AI Toolbox is a customizable, interoperable tool where you can select components that perform analytical functions relevant to one of these areas: \n",
        "\n",
        "\n",
        "\n",
        "* Model Assessment and Debugging, which involves determining how and why AI systems behave the way they do, identifying and diagnosing issues, then using that knowledge to take targeted steps to improve their performance. This can be encapsulated in a multi-step workflow:\n",
        "\n",
        "![Multi-step workflow](img/tour-1.png)\n",
        "\n",
        "* Decision-making: While machine learning models are particularly powerful in identifying patterns in data and making predictions, they offer little support to boost decision making processes, which involves estimating how a real-world outcome changes in the presence of an intervention, or “interrogating” a model to determine what changes to a particular datapoint would flip the model decision to become different/favorable.\n",
        "\n",
        "\n",
        "\n",
        "Each component has a variety of tabs and buttons. Take this tour to familiarize yourself with the different components of the dashboard and the options and functionalities available in each."
      ],
      "metadata": {},
      "id": "88a1b04b"
    },
    {
      "cell_type": "markdown",
      "source": [
        "## Table of Contents\n",
        "* [Error Analysis](#Error-Analysis)\n",
        "* [Data Explorer](#Data-Explorer)\n",
        "* [Model Statistics](#Model-Statistics)\n",
        "* [Interpretability](#Interpretability)\n",
        "* [Counterfactuals](#Counterfactuals)\n",
        "* [Causal Inferencing](#Causal-Inferencing)"
      ],
      "metadata": {},
      "id": "699793a0"
    },
    {
      "cell_type": "markdown",
      "source": [
        "## Error Analysis"
      ],
      "metadata": {},
      "id": "337e4515"
    },
    {
      "cell_type": "markdown",
      "source": [
        "### Cohorts"
      ],
      "metadata": {},
      "id": "1faeefac"
    },
    {
      "cell_type": "markdown",
      "source": [
        "At the top of the dashboard, you can create cohorts -- subgroups of datapoints sharing specified characteristics -- to focus your analysis on."
      ],
      "metadata": {},
      "id": "f2390554"
    },
    {
      "cell_type": "markdown",
      "source": [
        "![Top section of Responsible AI Toolbox showing global cohorts](img/tour-2.png)"
      ],
      "metadata": {},
      "id": "f9567d74"
    },
    {
      "cell_type": "markdown",
      "source": [
        "1. **Cohort settings:** allows you to view and modify the details of each cohort in a side panel\n",
        "2. **Dashboard configuration:** allows you to view and modify the layout of the overall dashboard in a side panel\n",
        "3. **Switch global cohort:** allows you to select a different cohort and view its statistics in a popup\n",
        "4. **Create new cohort:** allows you to add a new cohort"
      ],
      "metadata": {},
      "id": "1c8a3c49"
    },
    {
      "cell_type": "markdown",
      "source": [
        "Clicking the \"Cohort settings\" button reveals a side panel with details on all existing cohorts."
      ],
      "metadata": {},
      "id": "59e034f1"
    },
    {
      "cell_type": "markdown",
      "source": [
        "![Cohort settings side panel](img/tour-3.png)\n",
        "\n"
      ],
      "metadata": {},
      "id": "5a481f86"
    },
    {
      "cell_type": "markdown",
      "source": [
        "1. **Switch global cohort:** allows you to select a different cohort and view its statistics in a popup\n",
        "2. **Create new cohort:** allows you to add a new cohort\n",
        "3. **Cohort list:** contains the number of data points, the number of filters, the percent of error coverage, and the error rate for each cohort"
      ],
      "metadata": {},
      "id": "c01a3bb8"
    },
    {
      "cell_type": "markdown",
      "source": [
        "Clicking the \"Dashboard settings\" button reveals a side panel with details on the dashboard layout."
      ],
      "metadata": {},
      "id": "f3482d80"
    },
    {
      "cell_type": "markdown",
      "source": [
        "<div>\n",
        "<img src=\"./img/tour-4.png\" width=\"300\"/>\n",
        "</div>"
      ],
      "metadata": {},
      "id": "cf593f9b"
    },
    {
      "cell_type": "markdown",
      "source": [
        "1. **Dashboard Component:** lists the name of the component\n",
        "2. **Delete:** removes the component from the dashboard\n",
        "*Note: Each component row can be clicked and dragged to move it to a different location*"
      ],
      "metadata": {},
      "id": "2b5dc608"
    },
    {
      "cell_type": "markdown",
      "source": [
        "Clicking the \"Switch global cohort\" button on the dashboard or in the \"Cohort settings\" sidebar creates a popup that allows you to do that."
      ],
      "metadata": {},
      "id": "37e82ef5"
    },
    {
      "cell_type": "markdown",
      "source": [
        "![Popup to change the cohort](img/tour-5.png)"
      ],
      "metadata": {},
      "id": "8270a9a3"
    },
    {
      "cell_type": "markdown",
      "source": [
        "Clicking the \"Create new cohort\" button on the top of the Toolbox or in the \"Cohort settings\" sidebar creates a sidebar that allows you to do that."
      ],
      "metadata": {},
      "id": "3c81fd32"
    },
    {
      "cell_type": "markdown",
      "source": [
        "![Cohort creation sidebar options](img/tour-6.png)"
      ],
      "metadata": {},
      "id": "328c0016"
    },
    {
      "cell_type": "markdown",
      "source": [
        "1. **Index:** filters by the position of the datapoint in the full dataset\n",
        "2. **Dataset:** filters by the value of a particular feature in the dataset\n",
        "3. **Predicted Y:** filters by the prediction made by the model\n",
        "4. **True Y:** filters by the actual value of the target feature\n",
        "5. **Classification Outcome:** for classification problems, filters by type and accuracy of classification\n",
        "6. **Numerical Values:** filter by a Boolean operation over the values (i.e. select datapoints where age < 64)\n",
        "7. **Categorical Values:** filter by a list of values that should be included"
      ],
      "metadata": {},
      "id": "b24d8be4"
    },
    {
      "cell_type": "markdown",
      "source": [
        "### Tree View"
      ],
      "metadata": {},
      "id": "a42780b7"
    },
    {
      "cell_type": "markdown",
      "source": [
        "The first tab of the Error Analysis component is the tree view, which illustrates how model failure is distributed across different cohorts."
      ],
      "metadata": {},
      "id": "3c5e3177"
    },
    {
      "cell_type": "markdown",
      "source": [
        "![errortree](img/tour-7.png)"
      ],
      "metadata": {},
      "id": "3f281456"
    },
    {
      "cell_type": "markdown",
      "source": [
        "1. **Heatmap view:** switches to heatmap visualization of error distribution\n",
        "2. **Feature list:** allows you to modify the features used in the heatmap using a side panel\n",
        "3. **Error coverage:** displays the percentage of all error in the dataset concentrated in the selected node\n",
        "4. **Error rate:** displays the percentage of failures of all the datapoints in the selected node\n",
        "5. **Node:** represents a cohort of the dataset, potentially with filters applied, and the number of errors out of the total number of datapoints in the cohort\n",
        "6. **Fill line:** visualizes the distribution of datapoints into child cohorts based on filters, with number of datapoints represented through line thickness\n",
        "7. **Selection information:** contains information about the selected node in a side panel\n",
        "8. **Save as a new cohort:** creates a new cohort with the given filters\n",
        "9. **Instances in the base cohort:** displays the total number of points in the entire dataset, as well as the number of correctly and incorrectly predicted points\n",
        "10. **Instances in the selected cohort:** displays the total number of points in the selected node, as well as the number of correctly and incorrectly predicted points\n",
        "11. **Prediction path (filters):** lists the filters placed over the full dataset to create this smaller cohort"
      ],
      "metadata": {},
      "id": "d4d74fa7"
    },
    {
      "cell_type": "markdown",
      "source": [
        "Clicking on the \"Feature list\" button displays a side panel."
      ],
      "metadata": {},
      "id": "e53ec726"
    },
    {
      "cell_type": "markdown",
      "source": [
        "![errortreeconfiguration](img/tour-8.png)"
      ],
      "metadata": {},
      "id": "704a11aa"
    },
    {
      "cell_type": "markdown",
      "source": [
        "1. **Search features:** allows you to find specific features in the dataset\n",
        "2. **Features:** lists the name of the feature in the dataset\n",
        "3. **Importances:** visualizes the relative global importances of each feature in the dataset\n",
        "4. **Check mark:** allows you to add or remove the feature from the tree map"
      ],
      "metadata": {},
      "id": "07a96c79"
    },
    {
      "cell_type": "markdown",
      "source": [
        "### Heatmap View"
      ],
      "metadata": {},
      "id": "678d0d90"
    },
    {
      "cell_type": "markdown",
      "source": [
        "Clicking on the \"Heatmap view\" tab switches to a different view of the error in the dataset. You can click on one or many heatmap cells and create new cohorts."
      ],
      "metadata": {},
      "id": "f430c5da"
    },
    {
      "cell_type": "markdown",
      "source": [
        "\n",
        "<div>\n",
        "<img src=\"img/tour-9.png\" width=\"500\"/>\n",
        "</div>"
      ],
      "metadata": {},
      "id": "e129e29c"
    },
    {
      "cell_type": "markdown",
      "source": [
        "1. **No. Cells:** displays the number of cells selected\n",
        "2. **Error coverage:** displays the percentage of all errors concentrated in the selected cell(s)\n",
        "3. **Error rate:** displays the percentage of failures of all datapoints in the selected cell(s)\n",
        "4. **Axis features:** selects the intersection of features to display in the heatmap\n",
        "5. **Cells:** represents a cohort of the dataset, with filters applied, and the percentage of errors out of the total number of datapoints in the cohort. A blue outline indicates selected cells, and the darkness of red represents the concentration of failures\n",
        "6. **Prediction path (filters):** lists the filters placed over the full dataset for each selected cohort"
      ],
      "metadata": {},
      "id": "bcde565a"
    },
    {
      "cell_type": "markdown",
      "source": [
        "## Data Explorer"
      ],
      "metadata": {},
      "id": "21f87fad"
    },
    {
      "cell_type": "markdown",
      "source": [
        "![dataexplorer1](img/tour-10.png)"
      ],
      "metadata": {},
      "id": "28e9fab8"
    },
    {
      "cell_type": "markdown",
      "source": [
        "1. **X-axis:** displays the type of value being plotted horizontally, modify by clicking to display a side panel\n",
        "2. **Y-axis:** displays the type of value being plotted vertically, modify by clicking to display a side panel\n",
        "3. **Chart type:** specifies whether the plot is aggregating values across all datapoints\n",
        "4. **Aggregate plot:** displays data in bins or categories along the x-axis"
      ],
      "metadata": {},
      "id": "a9975358"
    },
    {
      "cell_type": "markdown",
      "source": [
        "Clicking on the \"Individual datapoints\" option under \"Chart type\" shifts to a disaggregated view of the data."
      ],
      "metadata": {},
      "id": "b7fd5025"
    },
    {
      "cell_type": "markdown",
      "source": [
        "![dataexplorer2](img/tour-11.png)"
      ],
      "metadata": {},
      "id": "83cb2307"
    },
    {
      "cell_type": "markdown",
      "source": [
        "1. **Color value:** allows you to select the type of legend used to group datapoints\n",
        "2. **Disaggregate plot:** scatterplot of datapoints along specified axes"
      ],
      "metadata": {},
      "id": "c627bae8"
    },
    {
      "cell_type": "markdown",
      "source": [
        "Clicking on the labels of the axes displays a popup."
      ],
      "metadata": {},
      "id": "562614a3"
    },
    {
      "cell_type": "markdown",
      "source": [
        "![image-2.png](img/tour-12.png)"
      ],
      "metadata": {},
      "id": "596f81e9"
    },
    {
      "cell_type": "markdown",
      "source": [
        "1. **Select your axis alue:** allows you to select the value displayed on the axis, with the same options and variety as cohort creation\n",
        "2. **Should dither:** adds optional noise to the data to avoid overlapping points in the scatterplot"
      ],
      "metadata": {},
      "id": "2413d2ae"
    },
    {
      "cell_type": "markdown",
      "source": [
        "## Model Statistics"
      ],
      "metadata": {},
      "id": "05d28245"
    },
    {
      "cell_type": "markdown",
      "source": [
        "![model-stats](img/tour-13.png)"
      ],
      "metadata": {},
      "id": "9a923864"
    },
    {
      "cell_type": "markdown",
      "source": [
        "1. **X-axis:** allows you to select a particular statistic of model prediction\n",
        "2. **Y-axis:** plots model statistics for a specified cohort of data\n",
        "3. **Metrics:** lists the accuracy, precision, recall, false positive rate, and false negative rate of the model"
      ],
      "metadata": {},
      "id": "211d409e"
    },
    {
      "cell_type": "markdown",
      "source": [
        "Clicking the x-axis label allows you to select which cohorts to plot statistics for."
      ],
      "metadata": {},
      "id": "df764020"
    },
    {
      "cell_type": "markdown",
      "source": [
        "![axis-setup](img/tour-14.png)"
      ],
      "metadata": {},
      "id": "c2d61e2e"
    },
    {
      "cell_type": "markdown",
      "source": [
        "1. **Cohort:** allows you to view model statistics of premade cohorts\n",
        "2. **Dataset:** allows you to view model statistics of a feature across bins or categories "
      ],
      "metadata": {},
      "id": "00d76e2d"
    },
    {
      "cell_type": "markdown",
      "source": [
        "Clicking the y-axis label allows you to select the metric(s) to plot for the cohorts."
      ],
      "metadata": {},
      "id": "9cd4541e"
    },
    {
      "cell_type": "markdown",
      "source": [
        "![axis-setup-options](img/tour-15.png)"
      ],
      "metadata": {},
      "id": "01678d8e"
    },
    {
      "cell_type": "markdown",
      "source": [
        "1. **Predicted Y:** plots based on the prediction made by the model\n",
        "2. **True Y:** plots based on the actual value of the target feature\n",
        "3. **Classification outcome:** for classification problems, plots based on the type and accuracy of classification\n",
        "4. **Prediction probabilities:** plots based on the probability of a certain prediction"
      ],
      "metadata": {},
      "id": "79dcbf4b"
    },
    {
      "cell_type": "markdown",
      "source": [
        "## Interpretability"
      ],
      "metadata": {},
      "id": "39c81657"
    },
    {
      "cell_type": "markdown",
      "source": [
        "### Global Explanations"
      ],
      "metadata": {},
      "id": "7a64c63d"
    },
    {
      "cell_type": "markdown",
      "source": [
        "![global-explanation](img/tour-16.png)"
      ],
      "metadata": {},
      "id": "2ea0071c"
    },
    {
      "cell_type": "markdown",
      "source": [
        "1. **Top features:** lists the most important global features for a prediction and allows you to change it through buttons or a slider\n",
        "2. **Aggregate feature importance:** visualizes the weight of each feature in influencing model decisions across all predictions\n",
        "3. **Dataset cohorts:** displays the legend for aggregate feature importances for each cohort of data\n",
        "4. **Sort by:** allows you to select which cohort's importances to sort the aggregate feature importance graph by\n",
        "5. **Chart type:** allows you to select between a bar plot view of average importances for each feature and a box plot of importances for all data\n",
        "6. **Feature importance of ____: Class: ____:** plots the importance of a particular feature across the predictions in the cohort\n",
        "7. **View dependence plot for:** selects the feature whose importances you want to plot\n",
        "8. **View cohort:** selects the cohort whose importances you want to plot"
      ],
      "metadata": {},
      "id": "c243a2b4"
    },
    {
      "cell_type": "markdown",
      "source": [
        "Clicking the \"Individual feature importances\" tab shifts views to explain how features influence the predictions made on specific datapoints."
      ],
      "metadata": {},
      "id": "79d6a0d5"
    },
    {
      "cell_type": "markdown",
      "source": [
        "### Local Explanations"
      ],
      "metadata": {},
      "id": "31aeaa5f"
    },
    {
      "cell_type": "markdown",
      "source": [
        "![local-explanation-table](img/tour-17.png)\n",
        "![global-explanation-chart](img/tour-18.png)"
      ],
      "metadata": {},
      "id": "fe78d4f1"
    },
    {
      "cell_type": "markdown",
      "source": [
        "1. **Filter by:** selects the cohort of points to display\n",
        "2. **Scatter plot:** switches to and from the scatter plot view of the points\n",
        "3. **Point selection:** selects the points to display in the feature importance plot or the ICE plot\n",
        "4. **Feature importance plot:** bar plot of the importance of each feature for the model's prediction on the selected datapoint(s)\n",
        "5. **Individual conditional expectation (ICE) plot:** switches to the ICE plot showing model predictions across a range of values of a particular feature\n",
        "6. **Sort by:** allows you to select the point (of those checked above) whose feature importances are displayed in descending order on the feature importance plot\n",
        "7. **Top 1-n features:** allows you to specify the number of features to show importances for through a slider\n",
        "8. **Bar plot:** displays the importance of each feature in the dataset for the model prediction of the selected datapoints"
      ],
      "metadata": {},
      "id": "36da7473"
    },
    {
      "cell_type": "markdown",
      "source": [
        "Clicking \"Individual conditional expectation (ICE) plot\" switches views to show how model prediction for the selected datapoint varies across values of a given feature."
      ],
      "metadata": {},
      "id": "27e9a144"
    },
    {
      "cell_type": "markdown",
      "source": [
        "![ICE-plot](img/tour-19.png)"
      ],
      "metadata": {},
      "id": "fe7e7fb2"
    },
    {
      "cell_type": "markdown",
      "source": [
        "1. **Min:** specifies the lower bound of the range of predictions in the ICE plot\n",
        "2. **Max:** specifies the upper bound of the range of predictions in the ICE plot\n",
        "3. **Steps:** specifies the number of points to show predictions for within the interval\n",
        "4. **Feature:** specifies the feature to make predictions for"
      ],
      "metadata": {},
      "id": "fc9bc5be"
    },
    {
      "cell_type": "markdown",
      "source": [
        "## Counterfactuals"
      ],
      "metadata": {},
      "id": "ed243068"
    },
    {
      "cell_type": "markdown",
      "source": [
        "![what-if](img/tour-20.png)\n",
        "![what-if-1](img/tour-21.png)"
      ],
      "metadata": {},
      "id": "7f209261"
    },
    {
      "cell_type": "markdown",
      "source": [
        "1. **Filter by:** selects the cohort of points to display\n",
        "2. **Scatter plot:** switches to and from the scatter plot view of the points\n",
        "3. **Point selection:** selects the point to create a counterfactual for and display in the top ranking features plot\n",
        "4. **Selected datapoint:** performs the same action as the point selection in the table, except in a dropdown menu\n",
        "5. **Desired class for counterfactual(s):** specifies the class to generate counterfactuals for\n",
        "6. **Create what-if counterfactual:** displays side bar for counterfactual creation\n",
        "7. **Top ranked features plot:** displays in order the features to perturb to create counterfactuals of the desired class"
      ],
      "metadata": {},
      "id": "a89cf633"
    },
    {
      "cell_type": "markdown",
      "source": [
        "Clicking on \"Create what-if counterfactual\" results in a large side panel popping up."
      ],
      "metadata": {},
      "id": "5c0ae223"
    },
    {
      "cell_type": "markdown",
      "source": [
        "![counterfactuals](img/tour-22.png)"
      ],
      "metadata": {},
      "id": "79ea5f0b"
    },
    {
      "cell_type": "markdown",
      "source": [
        "1. **Search features:** finds features to observe and change values\n",
        "2. **Sort counterfactual by ranked features:** sorts counterfactual examples in order of perturbation effect (see above for top ranked features plot)\n",
        "3. **Counterfactual Ex:** lists feature values of example counterfactuals in a given class\n",
        "4. **Predicted class:** lists the model prediction of a counterfactual's class given those changed features\n",
        "5. **Create your own counterfactual:** allows you to perturb your own features to modify the counterfactual\n",
        "6. **What-if counterfactual name:** allows you to name the counterfactual uniquely\n",
        "7. **Save as new datapoint:** saves the counterfactual you have created"
      ],
      "metadata": {},
      "id": "4ded0287"
    },
    {
      "cell_type": "markdown",
      "source": [
        "## Causal Inferencing"
      ],
      "metadata": {},
      "id": "7f4785ec"
    },
    {
      "cell_type": "markdown",
      "source": [
        "![causal-1](img/tour-23.png)\n",
        "![causal-2](img/tour-24.png)"
      ],
      "metadata": {},
      "id": "a36ef394"
    },
    {
      "cell_type": "markdown",
      "source": [
        "1. **Aggregate causal effects:** current tab, shows causality on average in this sample\n",
        "2. **Individual causal what-if:** shows causality for individual datapoints\n",
        "3. **Treatment policy:** shows treatment(s) to apply to achieve a particular outcome\n",
        "4. **Direct aggregate causal effect table:** displays the causal effect of each feature aggregated on the entire dataset and associated confidence statistics\n",
        "5. **Direct aggregate causal effect scatter plot:** visualizes the causal effects and confidence intervals of the points in the table"
      ],
      "metadata": {},
      "id": "dfd006cd"
    },
    {
      "cell_type": "markdown",
      "source": [
        "To get a granular view of causation on a particular datapoint, switch to the \"Individual causal what-if\" tab."
      ],
      "metadata": {},
      "id": "4ff6b14f"
    },
    {
      "cell_type": "markdown",
      "source": [
        "![causal-3](img/tour-25.png)\n",
        "![causal-4](img/tour-26.png)\n",
        "![causal-5](img/tour-27.png)"
      ],
      "metadata": {},
      "id": "2d926610"
    },
    {
      "cell_type": "markdown",
      "source": [
        "1. **X axis:** selects feature to plot on the x-axis\n",
        "2. **Y axis:** selects feature to plot on the y-axis\n",
        "3. **Individual causal scatter plot:** visualizes points in table as scatter plot\n",
        "4. **Set new treatment value (numerical):** shows slider to change the value of the numerical feature as a real-world intervention\n",
        "5. **Set new treatment value (categorical):** shows dropdown to select the value of the categorical feature"
      ],
      "metadata": {},
      "id": "178bf276"
    },
    {
      "cell_type": "markdown",
      "source": [
        "Clicking on the \"Treatment policy\" tab switches to a view to help determine real-world interventions."
      ],
      "metadata": {},
      "id": "2e32e39b"
    },
    {
      "cell_type": "markdown",
      "source": [
        "![causal-treatment1](img/tour-28.png)\n",
        "![causal-treatment2](img/tour-29.png)"
      ],
      "metadata": {},
      "id": "2af4659e"
    },
    {
      "cell_type": "markdown",
      "source": [
        "1. **Set treatment feature:** selects feature to change as a real-world intervention\n",
        "2. **Recommended global treatment policy:** displays recommended interventions for data cohorts to improve target feature value\n",
        "3. **Average gains of alternative policies over no ____ treatment:** plots the target feature value with bars for treatment policy and no treatment policy"
      ],
      "metadata": {},
      "id": "5bc8c40c"
    },
    {
      "cell_type": "markdown",
      "source": [
        "Scrolling down further shows treatment policies for individuals."
      ],
      "metadata": {},
      "id": "25e9f036"
    },
    {
      "cell_type": "markdown",
      "source": [
        "![causal-treatment3](img/tour-30.png)"
      ],
      "metadata": {},
      "id": "bd6421dd"
    },
    {
      "cell_type": "markdown",
      "source": [
        "1. **Show top datapoint samples ordered by causal effects for recommended treatment feature:** selects the number of datapoints to show in below table\n",
        "2. **Recommended individual treatment policy table:** lists in descending order the datapoints whose target features would be most improved by an intervention"
      ],
      "metadata": {},
      "id": "638131ff"
    }
  ],
  "metadata": {
    "kernelspec": {
      "name": "python3",
      "language": "python",
      "display_name": "Python 3 (ipykernel)"
    },
    "language_info": {
      "name": "python",
      "version": "3.8.5",
      "mimetype": "text/x-python",
      "codemirror_mode": {
        "name": "ipython",
        "version": 3
      },
      "pygments_lexer": "ipython3",
      "nbconvert_exporter": "python",
      "file_extension": ".py"
    },
    "kernel_info": {
      "name": "python3"
    },
    "nteract": {
      "version": "nteract-front-end@1.0.0"
    }
  },
  "nbformat": 4,
  "nbformat_minor": 5
}